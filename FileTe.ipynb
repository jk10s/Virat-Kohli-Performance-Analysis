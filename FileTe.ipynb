{
 "cells": [
  {
   "cell_type": "code",
   "execution_count": 1,
   "id": "98fdc2ff",
   "metadata": {},
   "outputs": [],
   "source": [
    "import pandas as pd\n",
    "import numpy as np"
   ]
  },
  {
   "cell_type": "code",
   "execution_count": 2,
   "id": "6fbd2967",
   "metadata": {},
   "outputs": [],
   "source": [
    "import plotly.express as px\n",
    "import plotly.graph_objects as go"
   ]
  },
  {
   "cell_type": "code",
   "execution_count": 4,
   "id": "2bc0043a",
   "metadata": {},
   "outputs": [
    {
     "name": "stdout",
     "output_type": "stream",
     "text": [
      "   Runs  BF  4s  6s     SR  Pos Dismissal  Inns   Opposition         Ground  \\\n",
      "0    12  22   1   0  54.54  2.0       lbw     1  v Sri Lanka       Dambulla   \n",
      "1    37  67   6   0  55.22  2.0    caught     2  v Sri Lanka       Dambulla   \n",
      "2    25  38   4   0  65.78  1.0   run out     1  v Sri Lanka  Colombo (RPS)   \n",
      "3    54  66   7   0  81.81  1.0    bowled     1  v Sri Lanka  Colombo (RPS)   \n",
      "4    31  46   3   1  67.39  1.0       lbw     2  v Sri Lanka  Colombo (RPS)   \n",
      "\n",
      "  Start Date  \n",
      "0  18-Aug-08  \n",
      "1  20-Aug-08  \n",
      "2  24-Aug-08  \n",
      "3  27-Aug-08  \n",
      "4  29-Aug-08  \n"
     ]
    }
   ],
   "source": [
    "data = pd.read_csv(\"Virat_Kohli.csv\")\n",
    "print(data.head())"
   ]
  },
  {
   "cell_type": "code",
   "execution_count": null,
   "id": "3f829c1e",
   "metadata": {},
   "outputs": [],
   "source": []
  }
 ],
 "metadata": {
  "kernelspec": {
   "display_name": "Python 3 (ipykernel)",
   "language": "python",
   "name": "python3"
  },
  "language_info": {
   "codemirror_mode": {
    "name": "ipython",
    "version": 3
   },
   "file_extension": ".py",
   "mimetype": "text/x-python",
   "name": "python",
   "nbconvert_exporter": "python",
   "pygments_lexer": "ipython3",
   "version": "3.9.12"
  }
 },
 "nbformat": 4,
 "nbformat_minor": 5
}
